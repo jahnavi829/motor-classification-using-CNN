{
  "nbformat": 4,
  "nbformat_minor": 0,
  "metadata": {
    "colab": {
      "provenance": []
    },
    "kernelspec": {
      "name": "python3",
      "display_name": "Python 3"
    },
    "language_info": {
      "name": "python"
    },
    "accelerator": "GPU",
    "gpuClass": "standard"
  },
  "cells": [
    {
      "cell_type": "code",
      "source": [
        "from google.colab import drive\n",
        "drive.mount('/content/drive')"
      ],
      "metadata": {
        "colab": {
          "base_uri": "https://localhost:8080/"
        },
        "id": "56q6T2Gd_8Qc",
        "outputId": "6e288586-4eed-4a06-83ad-952145b7340e"
      },
      "execution_count": 1,
      "outputs": [
        {
          "output_type": "stream",
          "name": "stdout",
          "text": [
            "Mounted at /content/drive\n"
          ]
        }
      ]
    },
    {
      "cell_type": "code",
      "execution_count": 2,
      "metadata": {
        "colab": {
          "base_uri": "https://localhost:8080/"
        },
        "id": "LYIz53b4jLWU",
        "outputId": "d3a396e6-1b54-4f08-9f7c-913be6789255"
      },
      "outputs": [
        {
          "output_type": "stream",
          "name": "stdout",
          "text": [
            "Collecting pyedflib\n",
            "  Downloading pyEDFlib-0.1.33-cp310-cp310-manylinux_2_17_x86_64.manylinux2014_x86_64.whl (2.9 MB)\n",
            "\u001b[2K     \u001b[90m━━━━━━━━━━━━━━━━━━━━━━━━━━━━━━━━━━━━━━━━\u001b[0m \u001b[32m2.9/2.9 MB\u001b[0m \u001b[31m470.4 kB/s\u001b[0m eta \u001b[36m0:00:00\u001b[0m\n",
            "\u001b[?25hRequirement already satisfied: numpy>=1.9.1 in /usr/local/lib/python3.10/dist-packages (from pyedflib) (1.22.4)\n",
            "Installing collected packages: pyedflib\n",
            "Successfully installed pyedflib-0.1.33\n"
          ]
        }
      ],
      "source": [
        "# !pip install urllib\n",
        "!pip install pyedflib\n",
        "import urllib.request\n",
        "import numpy as np\n",
        "import pyedflib"
      ]
    },
    {
      "cell_type": "code",
      "source": [
        "timeArray = np.array([round(x,5) for x in np.arange(0,124.5,.00625)])\n",
        "timeArray = timeArray.reshape(19920,1)\n",
        "reader = pyedflib.EdfReader('/content/drive/MyDrive/EEG my Documentation/S001/S001R12.edf')\n",
        "annotations = reader.readAnnotations()\n",
        "print(annotations)\n",
        "intervals = np.append(annotations[0],[124.5])\n",
        "codes = annotations[2]\n",
        "codeArray = []\n",
        "counter = 1\n",
        "for timeVal in timeArray:\n",
        "    if timeVal == 124.5:\n",
        "        break\n",
        "    elif timeVal / intervals[counter] == 1.0:\n",
        "        counter += 1\n",
        "\n",
        "    codeArray.append(codes[counter - 1])\n",
        "\n",
        "invertCodeArray = np.array(codeArray).reshape(19920,1)\n",
        "numSignals = reader.signals_in_file\n",
        "signal_labels = reader.getSignalLabels()\n",
        "dataset = np.zeros((numSignals, reader.getNSamples()[0]))\n",
        "for signal in np.arange(numSignals):\n",
        "    dataset[signal, :] = reader.readSignal(signal)\n",
        "\n",
        "dataset = dataset[:,:-80].transpose()\n"
      ],
      "metadata": {
        "id": "4NfkK25WjPVy",
        "colab": {
          "base_uri": "https://localhost:8080/"
        },
        "outputId": "2defe421-844e-4898-da9b-a94a0a5e9c1b"
      },
      "execution_count": 3,
      "outputs": [
        {
          "output_type": "stream",
          "name": "stdout",
          "text": [
            "(array([  0. ,   4.2,   8.3,  12.5,  16.6,  20.8,  24.9,  29.1,  33.2,\n",
            "        37.4,  41.5,  45.7,  49.8,  54. ,  58.1,  62.3,  66.4,  70.6,\n",
            "        74.7,  78.9,  83. ,  87.2,  91.3,  95.5,  99.6, 103.8, 107.9,\n",
            "       112.1, 116.2, 120.4]), array([4.2, 4.1, 4.2, 4.1, 4.2, 4.1, 4.2, 4.1, 4.2, 4.1, 4.2, 4.1, 4.2,\n",
            "       4.1, 4.2, 4.1, 4.2, 4.1, 4.2, 4.1, 4.2, 4.1, 4.2, 4.1, 4.2, 4.1,\n",
            "       4.2, 4.1, 4.2, 4.1]), array(['T0', 'T2', 'T0', 'T1', 'T0', 'T2', 'T0', 'T1', 'T0', 'T1', 'T0',\n",
            "       'T2', 'T0', 'T2', 'T0', 'T1', 'T0', 'T1', 'T0', 'T2', 'T0', 'T2',\n",
            "       'T0', 'T1', 'T0', 'T2', 'T0', 'T1', 'T0', 'T2'], dtype='<U2'))\n"
          ]
        }
      ]
    },
    {
      "cell_type": "code",
      "source": [
        "print(type(dataset))\n",
        "print(dataset.shape)\n",
        "print(invertCodeArray.shape)\n",
        "print(timeArray.shape)"
      ],
      "metadata": {
        "colab": {
          "base_uri": "https://localhost:8080/"
        },
        "id": "IYAnTnKyjZLb",
        "outputId": "8a45504d-c959-4bc4-94e5-3478e727e1f7"
      },
      "execution_count": 4,
      "outputs": [
        {
          "output_type": "stream",
          "name": "stdout",
          "text": [
            "<class 'numpy.ndarray'>\n",
            "(19920, 64)\n",
            "(19920, 1)\n",
            "(19920, 1)\n"
          ]
        }
      ]
    },
    {
      "cell_type": "code",
      "source": [
        "timeArray = timeArray[0:19920]\n",
        "print(timeArray.shape)\n",
        "invertCodeArray= invertCodeArray[0:19920]"
      ],
      "metadata": {
        "colab": {
          "base_uri": "https://localhost:8080/"
        },
        "id": "IMA0xiXqr5Ga",
        "outputId": "2af570cb-aeb8-4910-aa37-413c0e72c5f6"
      },
      "execution_count": 5,
      "outputs": [
        {
          "output_type": "stream",
          "name": "stdout",
          "text": [
            "(19920, 1)\n"
          ]
        }
      ]
    },
    {
      "cell_type": "code",
      "source": [
        "masterSet = np.concatenate((timeArray,invertCodeArray,dataset),axis=1)"
      ],
      "metadata": {
        "id": "IelSLbJRjlpW"
      },
      "execution_count": 6,
      "outputs": []
    },
    {
      "cell_type": "code",
      "source": [
        "import pandas as pd\n",
        "data_final = pd.DataFrame(masterSet)"
      ],
      "metadata": {
        "id": "8FAC1XStjrji"
      },
      "execution_count": 7,
      "outputs": []
    },
    {
      "cell_type": "code",
      "source": [
        "data_final.to_csv('/content/drive/MyDrive/EEG Documentation/Data/EEG-DATASETS-CSV/ALL/S001R12.csv')"
      ],
      "metadata": {
        "id": "pIsDigLVjxXa"
      },
      "execution_count": 8,
      "outputs": []
    },
    {
      "cell_type": "code",
      "source": [
        "import pandas as pd\n",
        "\n",
        "df = pd.read_csv('/content/drive/MyDrive/EEG Documentation/Data/EEG-DATASETS-CSV/ALL/S001R12.csv')\n",
        "\n",
        "\n",
        "df1 = df[df['1'].str.contains('T1')]\n",
        "\n",
        "df1.to_csv('/content/drive/MyDrive/EEG Documentation/Data/EEG-DATASETS-CSV/LEFT/T1-S001-LEFT-12.csv')\n",
        "\n",
        "df2=df[df['1'].str.contains('T2')]\n",
        "df2.to_csv('/content/drive/MyDrive/EEG Documentation/Data/EEG-DATASETS-CSV/RIGHT/T2-S001-RIGHT-12.csv')\n",
        "\n",
        "# df1 = df[df['1'].str.contains('T1')]\n",
        "\n",
        "# df1.to_csv('/content/drive/MyDrive/EEG Documentation/Data/EEG-DATASETS-CSV/BOTH/T1-S004-BOTH-14.csv')\n",
        "\n",
        "# df2=df[df['1'].str.contains('T2')]\n",
        "# df2.to_csv('/content/drive/MyDrive/EEG Documentation/Data/EEG-DATASETS-CSV/FEET/T2-S004-FEET-14.csv')\n"
      ],
      "metadata": {
        "id": "0y3vopr4jsgq"
      },
      "execution_count": 9,
      "outputs": []
    },
    {
      "cell_type": "code",
      "source": [
        "# from google.colab import files\n",
        "# files.download(\"T1-file-s4-6\")\n",
        "# files.download(\"T2-file-s4-6\")"
      ],
      "metadata": {
        "id": "VtycfXe7kGZF"
      },
      "execution_count": 10,
      "outputs": []
    }
  ]
}